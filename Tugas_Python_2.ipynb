{
 "cells": [
  {
   "cell_type": "markdown",
   "metadata": {},
   "source": [
    "### Tugas\n",
    "Diberikan sekumpulan Nilai Random antara 0 sampai dengan 100 sebanyak 250 nilai. Buatlah program untuk melakukan hal berikut:\n",
    "\n",
    "1. Tampilkan Angka Ganjil dari ke 250 nilai tersebut\n",
    "2. Tampilkan berapa banyak yang mendapatkan nilai lebih dari 70\n",
    "3. Tampilkan standar deviasi dari sekumpulan nilai tersebut\n",
    "4. Tampilkan nilai maksimum dan minimum\n",
    "5. Tampilkan modus dari sekumpulan nilai tersebut"
   ]
  },
  {
   "cell_type": "markdown",
   "metadata": {},
   "source": [
    "### Jawab\n"
   ]
  },
  {
   "cell_type": "code",
   "execution_count": 1,
   "metadata": {
    "scrolled": true
   },
   "outputs": [
    {
     "name": "stdout",
     "output_type": "stream",
     "text": [
      "[93, 70, 1, 85, 96, 83, 11, 88, 93, 37, 23, 7, 38, 43, 64, 75, 73, 64, 52, 62, 65, 89, 84, 14, 96, 46, 91, 53, 91, 46, 61, 1, 57, 70, 68, 79, 73, 71, 35, 16, 5, 91, 46, 49, 76, 86, 26, 92, 78, 1, 84, 23, 65, 21, 17, 50, 70, 22, 17, 33, 59, 29, 93, 63, 86, 85, 47, 24, 26, 15, 17, 21, 79, 9, 12, 69, 89, 34, 28, 90, 55, 96, 69, 85, 16, 60, 77, 77, 79, 36, 42, 62, 2, 62, 51, 45, 11, 70, 74, 37, 93, 83, 14, 65, 26, 63, 82, 86, 58, 54, 58, 17, 58, 87, 63, 41, 23, 33, 30, 28, 57, 71, 57, 11, 89, 55, 52, 94, 44, 2, 33, 1, 81, 15, 3, 81, 9, 54, 12, 92, 45, 85, 70, 67, 13, 85, 40, 83, 58, 97, 80, 87, 46, 73, 27, 82, 30, 80, 74, 72, 80, 77, 38, 71, 43, 1, 17, 9, 42, 3, 21, 14, 92, 16, 19, 47, 68, 69, 59, 34, 65, 81, 81, 76, 75, 88, 76, 43, 38, 62, 68, 82, 24, 14, 77, 13, 17, 13, 20, 58, 60, 40, 18, 53, 44, 18, 58, 10, 82, 61, 48, 9, 12, 91, 38, 52, 33, 87, 12, 2, 19, 69, 2, 68, 65, 65, 86, 16, 26, 64, 63, 13, 12, 19, 22, 49, 21, 33, 29, 83, 98, 60, 52, 54, 57, 52, 56, 27, 50, 76]\n"
     ]
    }
   ],
   "source": [
    "import random\n",
    "\n",
    "#Generate random\n",
    "nilaiTugas = []\n",
    "for i in range(250):\n",
    "    nilaiTugas.append(random.randrange(1,100,1))\n",
    "\n",
    "print(nilaiTugas)"
   ]
  },
  {
   "cell_type": "code",
   "execution_count": 2,
   "metadata": {},
   "outputs": [
    {
     "name": "stdout",
     "output_type": "stream",
     "text": [
      "[93, 1, 85, 83, 11, 93, 37, 23, 7, 43, 75, 73, 65, 89, 91, 53, 91, 61, 1, 57, 79, 73, 71, 35, 5, 91, 49, 1, 23, 65, 21, 17, 17, 33, 59, 29, 93, 63, 85, 47, 15, 17, 21, 79, 9, 69, 89, 55, 69, 85, 77, 77, 79, 51, 45, 11, 37, 93, 83, 65, 63, 17, 87, 63, 41, 23, 33, 57, 71, 57, 11, 89, 55, 33, 1, 81, 15, 3, 81, 9, 45, 85, 67, 13, 85, 83, 97, 87, 73, 27, 77, 71, 43, 1, 17, 9, 3, 21, 19, 47, 69, 59, 65, 81, 81, 75, 43, 77, 13, 17, 13, 53, 61, 9, 91, 33, 87, 19, 69, 65, 65, 63, 13, 19, 49, 21, 33, 29, 83, 57, 27]\n"
     ]
    }
   ],
   "source": [
    "#Menampilkan nilai yang ganjil\n",
    "nilaiGanjil = []\n",
    "for nilai in nilaiTugas:\n",
    "    if nilai % 2 != 0:\n",
    "        nilaiGanjil.append(nilai)\n",
    "print(nilaiGanjil)"
   ]
  },
  {
   "cell_type": "code",
   "execution_count": 3,
   "metadata": {},
   "outputs": [
    {
     "name": "stdout",
     "output_type": "stream",
     "text": [
      "[93, 85, 96, 83, 88, 93, 75, 73, 89, 84, 96, 91, 91, 79, 73, 91, 76, 86, 92, 78, 84, 93, 86, 85, 79, 89, 90, 96, 85, 77, 77, 79, 74, 93, 83, 82, 86, 87, 89, 94, 81, 81, 92, 85, 85, 83, 97, 80, 87, 73, 82, 80, 74, 80, 77, 92, 81, 81, 76, 75, 88, 76, 82, 77, 82, 91, 87, 86, 83, 98, 76]\n",
      "Ada sebanyak 71 yang mendapatkan nilai lebih dari 70.\n"
     ]
    }
   ],
   "source": [
    "#Berapa banyak yang mendapatkan nilai > 70\n",
    "nilaiLebih70 = []\n",
    "for nilai in nilaiTugas:\n",
    "    if nilai > 72:\n",
    "        nilaiLebih70.append(nilai)\n",
    "print(nilaiLebih70)\n",
    "print(\"Ada sebanyak \",  len(nilaiLebih70), \" yang mendapatkan nilai lebih dari 70.\", sep='')"
   ]
  },
  {
   "cell_type": "code",
   "execution_count": 4,
   "metadata": {},
   "outputs": [
    {
     "name": "stdout",
     "output_type": "stream",
     "text": [
      "Standar deviasi dari 250 nilai tersebut adalah 28.077937715319862.\n"
     ]
    }
   ],
   "source": [
    "#Standar Deviasi dari ke-250 nilai tersebut\n",
    "import statistics\n",
    "print(\"Standar deviasi dari 250 nilai tersebut adalah \", statistics.stdev(nilaiTugas), \".\", sep='')"
   ]
  },
  {
   "cell_type": "code",
   "execution_count": 5,
   "metadata": {},
   "outputs": [
    {
     "name": "stdout",
     "output_type": "stream",
     "text": [
      "Nilai maksimum dari 250 nilai tersebut adalah 98.\n",
      "Sedangkan nilai minimun dari 250 nilai tersebut adalah 1.\n"
     ]
    }
   ],
   "source": [
    "#Nilai maksimum dan minimum\n",
    "print(\"Nilai maksimum dari 250 nilai tersebut adalah \", max(nilaiTugas), \".\", sep='')\n",
    "print(\"Sedangkan nilai minimun dari 250 nilai tersebut adalah \", min(nilaiTugas), \".\", sep='')"
   ]
  },
  {
   "cell_type": "code",
   "execution_count": 6,
   "metadata": {},
   "outputs": [
    {
     "ename": "StatisticsError",
     "evalue": "no unique mode; found 3 equally common values",
     "output_type": "error",
     "traceback": [
      "\u001b[1;31m---------------------------------------------------------------------------\u001b[0m",
      "\u001b[1;31mStatisticsError\u001b[0m                           Traceback (most recent call last)",
      "\u001b[1;32m<ipython-input-6-647154cf26f3>\u001b[0m in \u001b[0;36m<module>\u001b[1;34m()\u001b[0m\n\u001b[0;32m      1\u001b[0m \u001b[1;31m#Modus (Nilai yang paling sering muncul) -- jika modus unik, cukup menggunakan algoritma ini\u001b[0m\u001b[1;33m\u001b[0m\u001b[1;33m\u001b[0m\u001b[0m\n\u001b[1;32m----> 2\u001b[1;33m \u001b[0mprint\u001b[0m\u001b[1;33m(\u001b[0m\u001b[1;34m\"Nilai yang paling sering muncul (Modus) dari ke 250 nilai tesebut adalah \"\u001b[0m\u001b[1;33m,\u001b[0m \u001b[0mstatistics\u001b[0m\u001b[1;33m.\u001b[0m\u001b[0mmode\u001b[0m\u001b[1;33m(\u001b[0m\u001b[0mnilaiTugas\u001b[0m\u001b[1;33m)\u001b[0m\u001b[1;33m,\u001b[0m \u001b[1;34m\".\"\u001b[0m\u001b[1;33m,\u001b[0m \u001b[0msep\u001b[0m\u001b[1;33m=\u001b[0m\u001b[1;34m''\u001b[0m\u001b[1;33m)\u001b[0m\u001b[1;33m\u001b[0m\u001b[0m\n\u001b[0m",
      "\u001b[1;32m~\\Anaconda3\\lib\\statistics.py\u001b[0m in \u001b[0;36mmode\u001b[1;34m(data)\u001b[0m\n\u001b[0;32m    504\u001b[0m     \u001b[1;32melif\u001b[0m \u001b[0mtable\u001b[0m\u001b[1;33m:\u001b[0m\u001b[1;33m\u001b[0m\u001b[0m\n\u001b[0;32m    505\u001b[0m         raise StatisticsError(\n\u001b[1;32m--> 506\u001b[1;33m                 \u001b[1;34m'no unique mode; found %d equally common values'\u001b[0m \u001b[1;33m%\u001b[0m \u001b[0mlen\u001b[0m\u001b[1;33m(\u001b[0m\u001b[0mtable\u001b[0m\u001b[1;33m)\u001b[0m\u001b[1;33m\u001b[0m\u001b[0m\n\u001b[0m\u001b[0;32m    507\u001b[0m                 )\n\u001b[0;32m    508\u001b[0m     \u001b[1;32melse\u001b[0m\u001b[1;33m:\u001b[0m\u001b[1;33m\u001b[0m\u001b[0m\n",
      "\u001b[1;31mStatisticsError\u001b[0m: no unique mode; found 3 equally common values"
     ]
    }
   ],
   "source": [
    "#Modus (Nilai yang paling sering muncul) -- jika modus unik, cukup menggunakan algoritma ini\n",
    "print(\"Nilai yang paling sering muncul (Modus) dari ke 250 nilai tesebut adalah \", statistics.mode(nilaiTugas), \".\", sep='')"
   ]
  },
  {
   "cell_type": "code",
   "execution_count": 7,
   "metadata": {},
   "outputs": [
    {
     "name": "stdout",
     "output_type": "stream",
     "text": [
      "Nilai yang paling sering muncul dari ke 250 nilai-nilai tersebut adalah: \n",
      "1. 17\n",
      "2. 58\n",
      "3. 65\n"
     ]
    }
   ],
   "source": [
    "#Modus (Nilai yang paling sering muncul) -- jika modus tidak unik, maka gunakan algoritma ini\n",
    "nilaiCount = []\n",
    "distinctNilai = set(nilaiTugas)\n",
    "no = 0\n",
    "print(\"Nilai yang paling sering muncul dari ke 250 nilai-nilai tersebut adalah: \")\n",
    "for n in distinctNilai:\n",
    "    nilaiCount.append(nilaiTugas.count(n))\n",
    "for i in distinctNilai:\n",
    "    if nilaiTugas.count(i) >= max(nilaiCount):\n",
    "        no = no + 1\n",
    "        print(no, \". \", i, sep='')"
   ]
  }
 ],
 "metadata": {
  "kernelspec": {
   "display_name": "Python 3",
   "language": "python",
   "name": "python3"
  },
  "language_info": {
   "codemirror_mode": {
    "name": "ipython",
    "version": 3
   },
   "file_extension": ".py",
   "mimetype": "text/x-python",
   "name": "python",
   "nbconvert_exporter": "python",
   "pygments_lexer": "ipython3",
   "version": "3.7.0"
  }
 },
 "nbformat": 4,
 "nbformat_minor": 2
}

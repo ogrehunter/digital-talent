{
 "cells": [
  {
   "cell_type": "markdown",
   "metadata": {},
   "source": [
    "### Tugas\n",
    "Diberikan sekumpulan Nilai Random antara 0 sampai dengan 100 sebanyak 250 nilai. Buatlah program untuk melakukan hal berikut:\n",
    "\n",
    "1. Tampilkan Angka Ganjil dari ke 250 nilai tersebut\n",
    "2. Tampilkan berapa banyak yang mendapatkan nilai lebih dari 70\n",
    "3. Tampilkan standar deviasi dari sekumpulan nilai tersebut\n",
    "4. Tampilkan nilai maksimum dan minimum\n",
    "5. Tampilkan modus dari sekumpulan nilai tersebut"
   ]
  },
  {
   "cell_type": "markdown",
   "metadata": {},
   "source": [
    "### Jawab\n"
   ]
  },
  {
   "cell_type": "code",
   "execution_count": 8,
   "metadata": {
    "scrolled": true
   },
   "outputs": [
    {
     "name": "stdout",
     "output_type": "stream",
     "text": [
      "[37, 65, 6, 33, 2, 58, 55, 42, 62, 66, 14, 14, 87, 80, 4, 40, 50, 36, 72, 70, 17, 29, 43, 93, 95, 73, 88, 85, 89, 21, 87, 25, 80, 72, 4, 54, 86, 54, 19, 9, 52, 61, 38, 73, 49, 5, 78, 4, 69, 76, 11, 43, 70, 27, 13, 33, 76, 88, 69, 16, 17, 57, 66, 85, 1, 93, 70, 39, 61, 46, 79, 89, 62, 11, 19, 18, 5, 47, 93, 9, 18, 18, 7, 9, 53, 37, 76, 89, 67, 63, 68, 30, 25, 46, 54, 65, 91, 18, 13, 61, 26, 40, 46, 83, 32, 42, 41, 16, 38, 40, 43, 64, 2, 20, 9, 16, 30, 85, 71, 14, 71, 98, 56, 8, 59, 31, 64, 90, 66, 70, 29, 9, 6, 33, 50, 14, 16, 83, 30, 44, 25, 27, 14, 52, 41, 48, 17, 69, 54, 59, 80, 71, 69, 88, 31, 20, 99, 27, 96, 68, 78, 61, 83, 41, 70, 26, 65, 11, 13, 82, 34, 76, 16, 82, 2, 31, 91, 90, 58, 8, 94, 42, 43, 96, 73, 30, 86, 99, 35, 39, 84, 33, 8, 77, 89, 64, 34, 38, 24, 58, 80, 50, 90, 77, 75, 70, 61, 1, 13, 35, 60, 67, 63, 47, 54, 89, 53, 46, 2, 76, 67, 95, 93, 16, 20, 10, 83, 60, 56, 82, 56, 77, 38, 92, 38, 26, 9, 23, 5, 74, 63, 81, 59, 41, 48, 74, 95, 17, 99, 87]\n"
     ]
    }
   ],
   "source": [
    "import random\n",
    "\n",
    "#Generate random\n",
    "nilaiTugas = []\n",
    "for i in range(250):\n",
    "    nilaiTugas.append(random.randrange(1,100,1))\n",
    "\n",
    "print(nilaiTugas)"
   ]
  },
  {
   "cell_type": "code",
   "execution_count": 9,
   "metadata": {},
   "outputs": [
    {
     "name": "stdout",
     "output_type": "stream",
     "text": [
      "[37, 65, 33, 55, 87, 17, 29, 43, 93, 95, 73, 85, 89, 21, 87, 25, 19, 9, 61, 73, 49, 5, 69, 11, 43, 27, 13, 33, 69, 17, 57, 85, 1, 93, 39, 61, 79, 89, 11, 19, 5, 47, 93, 9, 7, 9, 53, 37, 89, 67, 63, 25, 65, 91, 13, 61, 83, 41, 43, 9, 85, 71, 71, 59, 31, 29, 9, 33, 83, 25, 27, 41, 17, 69, 59, 71, 69, 31, 99, 27, 61, 83, 41, 65, 11, 13, 31, 91, 43, 73, 99, 35, 39, 33, 77, 89, 77, 75, 61, 1, 13, 35, 67, 63, 47, 89, 53, 67, 95, 93, 83, 77, 9, 23, 5, 63, 81, 59, 41, 95, 17, 99, 87]\n"
     ]
    }
   ],
   "source": [
    "#Menampilkan nilai yang ganjil\n",
    "nilaiGanjil = []\n",
    "for nilai in nilaiTugas:\n",
    "    if nilai % 2 != 0:\n",
    "        nilaiGanjil.append(nilai)\n",
    "print(nilaiGanjil)"
   ]
  },
  {
   "cell_type": "code",
   "execution_count": 10,
   "metadata": {},
   "outputs": [
    {
     "name": "stdout",
     "output_type": "stream",
     "text": [
      "[87, 80, 93, 95, 73, 88, 85, 89, 87, 80, 86, 73, 78, 76, 76, 88, 85, 93, 79, 89, 93, 76, 89, 91, 83, 85, 98, 90, 83, 80, 88, 99, 96, 78, 83, 82, 76, 82, 91, 90, 94, 96, 73, 86, 99, 84, 77, 89, 80, 90, 77, 75, 89, 76, 95, 93, 83, 82, 77, 92, 74, 81, 74, 95, 99, 87]\n",
      "Ada sebanyak 66 yang mendapatkan nilai lebih dari 70.\n"
     ]
    }
   ],
   "source": [
    "#Berapa banyak yang mendapatkan nilai > 70\n",
    "nilaiLebih70 = []\n",
    "for nilai in nilaiTugas:\n",
    "    if nilai > 72:\n",
    "        nilaiLebih70.append(nilai)\n",
    "print(nilaiLebih70)\n",
    "print(\"Ada sebanyak \",  len(nilaiLebih70), \" yang mendapatkan nilai lebih dari 70.\", sep='')"
   ]
  },
  {
   "cell_type": "code",
   "execution_count": 11,
   "metadata": {},
   "outputs": [
    {
     "name": "stdout",
     "output_type": "stream",
     "text": [
      "Standar deviasi dari 250 nilai tersebut adalah 28.313570901402652.\n"
     ]
    }
   ],
   "source": [
    "#Standar Deviasi dari ke-250 nilai tersebut\n",
    "import statistics\n",
    "print(\"Standar deviasi dari 250 nilai tersebut adalah \", statistics.stdev(nilaiTugas), \".\", sep='')"
   ]
  },
  {
   "cell_type": "code",
   "execution_count": 12,
   "metadata": {},
   "outputs": [
    {
     "name": "stdout",
     "output_type": "stream",
     "text": [
      "Nilai maksimum dari 250 nilai tersebut adalah 99.\n",
      "Sedangkan nilai minimun dari 250 nilai tersebut adalah 1.\n"
     ]
    }
   ],
   "source": [
    "#Nilai maksimum dan minimum\n",
    "print(\"Nilai maksimum dari 250 nilai tersebut adalah \", max(nilaiTugas), \".\", sep='')\n",
    "print(\"Sedangkan nilai minimun dari 250 nilai tersebut adalah \", min(nilaiTugas), \".\", sep='')"
   ]
  },
  {
   "cell_type": "code",
   "execution_count": 13,
   "metadata": {},
   "outputs": [
    {
     "ename": "StatisticsError",
     "evalue": "no unique mode; found 3 equally common values",
     "output_type": "error",
     "traceback": [
      "\u001b[1;31m---------------------------------------------------------------------------\u001b[0m",
      "\u001b[1;31mStatisticsError\u001b[0m                           Traceback (most recent call last)",
      "\u001b[1;32m<ipython-input-13-4b2d7712d3db>\u001b[0m in \u001b[0;36m<module>\u001b[1;34m()\u001b[0m\n\u001b[0;32m      1\u001b[0m \u001b[1;31m#Modus (Nilai yang paling sering muncul)\u001b[0m\u001b[1;33m\u001b[0m\u001b[1;33m\u001b[0m\u001b[0m\n\u001b[1;32m----> 2\u001b[1;33m \u001b[0mprint\u001b[0m\u001b[1;33m(\u001b[0m\u001b[1;34m\"Nilai yang paling sering muncul (Modus) dari ke 250 nilai tesebut adalah \"\u001b[0m\u001b[1;33m,\u001b[0m \u001b[0mstatistics\u001b[0m\u001b[1;33m.\u001b[0m\u001b[0mmode\u001b[0m\u001b[1;33m(\u001b[0m\u001b[0mnilaiTugas\u001b[0m\u001b[1;33m)\u001b[0m\u001b[1;33m,\u001b[0m \u001b[1;34m\".\"\u001b[0m\u001b[1;33m,\u001b[0m \u001b[0msep\u001b[0m\u001b[1;33m=\u001b[0m\u001b[1;34m''\u001b[0m\u001b[1;33m)\u001b[0m\u001b[1;33m\u001b[0m\u001b[0m\n\u001b[0m",
      "\u001b[1;32m~\\Anaconda3\\lib\\statistics.py\u001b[0m in \u001b[0;36mmode\u001b[1;34m(data)\u001b[0m\n\u001b[0;32m    504\u001b[0m     \u001b[1;32melif\u001b[0m \u001b[0mtable\u001b[0m\u001b[1;33m:\u001b[0m\u001b[1;33m\u001b[0m\u001b[0m\n\u001b[0;32m    505\u001b[0m         raise StatisticsError(\n\u001b[1;32m--> 506\u001b[1;33m                 \u001b[1;34m'no unique mode; found %d equally common values'\u001b[0m \u001b[1;33m%\u001b[0m \u001b[0mlen\u001b[0m\u001b[1;33m(\u001b[0m\u001b[0mtable\u001b[0m\u001b[1;33m)\u001b[0m\u001b[1;33m\u001b[0m\u001b[0m\n\u001b[0m\u001b[0;32m    507\u001b[0m                 )\n\u001b[0;32m    508\u001b[0m     \u001b[1;32melse\u001b[0m\u001b[1;33m:\u001b[0m\u001b[1;33m\u001b[0m\u001b[0m\n",
      "\u001b[1;31mStatisticsError\u001b[0m: no unique mode; found 3 equally common values"
     ]
    }
   ],
   "source": [
    "#Modus (Nilai yang paling sering muncul)\n",
    "print(\"Nilai yang paling sering muncul (Modus) dari ke 250 nilai tesebut adalah \", statistics.mode(nilaiTugas), \".\", sep='')"
   ]
  },
  {
   "cell_type": "code",
   "execution_count": 63,
   "metadata": {},
   "outputs": [
    {
     "name": "stdout",
     "output_type": "stream",
     "text": [
      "9\n",
      "16\n",
      "70\n"
     ]
    }
   ],
   "source": [
    "#Modus (Nilai yang paling sering muncul)\n",
    "nilaiCount = []\n",
    "distinctNilai = set(nilaiTugas)\n",
    "for n in distinctNilai:\n",
    "    nilaiCount.append(nilaiTugas.count(n))\n",
    "for i in distinctNilai:\n",
    "    if nilaiTugas.count(i) >= max(nilaiCount):\n",
    "        print(i)"
   ]
  },
  {
   "cell_type": "code",
   "execution_count": null,
   "metadata": {},
   "outputs": [],
   "source": []
  }
 ],
 "metadata": {
  "kernelspec": {
   "display_name": "Python 3",
   "language": "python",
   "name": "python3"
  },
  "language_info": {
   "codemirror_mode": {
    "name": "ipython",
    "version": 3
   },
   "file_extension": ".py",
   "mimetype": "text/x-python",
   "name": "python",
   "nbconvert_exporter": "python",
   "pygments_lexer": "ipython3",
   "version": "3.7.0"
  }
 },
 "nbformat": 4,
 "nbformat_minor": 2
}

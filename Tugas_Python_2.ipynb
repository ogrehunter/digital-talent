{
 "cells": [
  {
   "cell_type": "markdown",
   "metadata": {},
   "source": [
    "### Tugas\n",
    "Diberikan sekumpulan Nilai Random antara 0 sampai dengan 100 sebanyak 250 nilai. Buatlah program untuk melakukan hal berikut:\n",
    "\n",
    "1. Tampilkan Angka Ganjil dari ke 250 nilai tersebut\n",
    "2. Tampilkan berapa banyak yang mendapatkan nilai lebih dari 70\n",
    "3. Tampilkan standar deviasi dari sekumpulan nilai tersebut\n",
    "4. Tampilkan nilai maksimum dan minimum\n",
    "5. Tampilkan modus dari sekumpulan nilai tersebut"
   ]
  },
  {
   "cell_type": "markdown",
   "metadata": {},
   "source": [
    "### Jawab\n"
   ]
  },
  {
   "cell_type": "code",
   "execution_count": 1,
   "metadata": {
    "scrolled": true
   },
   "outputs": [
    {
     "name": "stdout",
     "output_type": "stream",
     "text": [
      "[13, 46, 22, 43, 58, 12, 80, 65, 79, 4, 3, 6, 97, 75, 23, 59, 30, 81, 9, 31, 30, 85, 70, 68, 29, 27, 52, 98, 48, 62, 11, 99, 19, 80, 16, 4, 53, 7, 53, 66, 10, 68, 78, 67, 87, 23, 32, 1, 86, 47, 43, 53, 38, 17, 18, 51, 14, 12, 32, 12, 34, 37, 23, 42, 22, 12, 77, 88, 15, 98, 5, 26, 2, 10, 1, 82, 66, 33, 23, 63, 23, 70, 18, 17, 64, 79, 6, 59, 11, 11, 99, 90, 78, 86, 72, 2, 95, 48, 95, 18, 54, 38, 88, 51, 23, 14, 83, 28, 6, 48, 40, 31, 81, 88, 32, 73, 85, 42, 29, 65, 65, 10, 90, 60, 77, 57, 71, 86, 67, 46, 13, 75, 44, 18, 34, 17, 41, 42, 37, 85, 68, 64, 73, 81, 77, 47, 77, 27, 86, 14, 94, 42, 66, 57, 53, 39, 66, 29, 53, 95, 59, 23, 1, 77, 94, 44, 96, 79, 6, 41, 3, 20, 13, 18, 46, 21, 97, 73, 17, 4, 1, 17, 25, 3, 68, 57, 59, 7, 97, 89, 3, 73, 90, 4, 58, 25, 17, 68, 70, 64, 71, 22, 72, 25, 42, 17, 15, 58, 10, 10, 86, 34, 57, 4, 87, 98, 93, 96, 80, 7, 9, 33, 7, 25, 25, 32, 70, 73, 76, 4, 93, 50, 4, 25, 71, 98, 29, 10, 58, 13, 22, 63, 72, 76, 52, 22, 24, 34, 29, 93]\n"
     ]
    }
   ],
   "source": [
    "import random\n",
    "\n",
    "#Generate random\n",
    "nilaiTugas = []\n",
    "for i in range(250):\n",
    "    nilaiTugas.append(random.randrange(1,100,1))\n",
    "\n",
    "print(nilaiTugas)"
   ]
  },
  {
   "cell_type": "code",
   "execution_count": 2,
   "metadata": {},
   "outputs": [
    {
     "name": "stdout",
     "output_type": "stream",
     "text": [
      "[13, 43, 65, 79, 3, 97, 75, 23, 59, 81, 9, 31, 85, 29, 27, 11, 99, 19, 53, 7, 53, 67, 87, 23, 1, 47, 43, 53, 17, 51, 37, 23, 77, 15, 5, 1, 33, 23, 63, 23, 17, 79, 59, 11, 11, 99, 95, 95, 51, 23, 83, 31, 81, 73, 85, 29, 65, 65, 77, 57, 71, 67, 13, 75, 17, 41, 37, 85, 73, 81, 77, 47, 77, 27, 57, 53, 39, 29, 53, 95, 59, 23, 1, 77, 79, 41, 3, 13, 21, 97, 73, 17, 1, 17, 25, 3, 57, 59, 7, 97, 89, 3, 73, 25, 17, 71, 25, 17, 15, 57, 87, 93, 7, 9, 33, 7, 25, 25, 73, 93, 25, 71, 29, 13, 63, 29, 93]\n"
     ]
    }
   ],
   "source": [
    "#Menampilkan nilai yang ganjil\n",
    "nilaiGanjil = []\n",
    "for nilai in nilaiTugas:\n",
    "    if nilai % 2 != 0:\n",
    "        nilaiGanjil.append(nilai)\n",
    "print(nilaiGanjil)"
   ]
  },
  {
   "cell_type": "code",
   "execution_count": 3,
   "metadata": {},
   "outputs": [
    {
     "name": "stdout",
     "output_type": "stream",
     "text": [
      "[80, 79, 97, 75, 81, 85, 98, 99, 80, 78, 87, 86, 77, 88, 98, 82, 79, 99, 90, 78, 86, 95, 95, 88, 83, 81, 88, 73, 85, 90, 77, 86, 75, 85, 73, 81, 77, 77, 86, 94, 95, 77, 94, 96, 79, 97, 73, 97, 89, 73, 90, 86, 87, 98, 93, 96, 80, 73, 76, 93, 98, 76, 93]\n",
      "Ada sebanyak 63 yang mendapatkan nilai lebih dari 70.\n"
     ]
    }
   ],
   "source": [
    "#Berapa banyak yang mendapatkan nilai > 70\n",
    "nilaiLebih70 = []\n",
    "for nilai in nilaiTugas:\n",
    "    if nilai > 72:\n",
    "        nilaiLebih70.append(nilai)\n",
    "print(nilaiLebih70)\n",
    "print(\"Ada sebanyak \",  len(nilaiLebih70), \" yang mendapatkan nilai lebih dari 70.\", sep='')"
   ]
  },
  {
   "cell_type": "code",
   "execution_count": 4,
   "metadata": {},
   "outputs": [
    {
     "name": "stdout",
     "output_type": "stream",
     "text": [
      "Standar deviasi dari 250 nilai tersebut adalah 29.891676186204137.\n"
     ]
    }
   ],
   "source": [
    "#Standar Deviasi dari ke-250 nilai tersebut\n",
    "import statistics\n",
    "print(\"Standar deviasi dari 250 nilai tersebut adalah \", statistics.stdev(nilaiTugas), \".\", sep='')"
   ]
  },
  {
   "cell_type": "code",
   "execution_count": 5,
   "metadata": {},
   "outputs": [
    {
     "name": "stdout",
     "output_type": "stream",
     "text": [
      "Nilai maksimum dari 250 nilai tersebut adalah 99.\n",
      "Sedangkan nilai minimun dari 250 nilai tersebut adalah 1.\n"
     ]
    }
   ],
   "source": [
    "#Nilai maksimum dan minimum\n",
    "print(\"Nilai maksimum dari 250 nilai tersebut adalah \", max(nilaiTugas), \".\", sep='')\n",
    "print(\"Sedangkan nilai minimun dari 250 nilai tersebut adalah \", min(nilaiTugas), \".\", sep='')"
   ]
  },
  {
   "cell_type": "code",
   "execution_count": 6,
   "metadata": {},
   "outputs": [
    {
     "ename": "StatisticsError",
     "evalue": "no unique mode; found 3 equally common values",
     "output_type": "error",
     "traceback": [
      "\u001b[1;31m---------------------------------------------------------------------------\u001b[0m",
      "\u001b[1;31mStatisticsError\u001b[0m                           Traceback (most recent call last)",
      "\u001b[1;32m<ipython-input-6-647154cf26f3>\u001b[0m in \u001b[0;36m<module>\u001b[1;34m()\u001b[0m\n\u001b[0;32m      1\u001b[0m \u001b[1;31m#Modus (Nilai yang paling sering muncul) -- jika modus unik, cukup menggunakan algoritma ini\u001b[0m\u001b[1;33m\u001b[0m\u001b[1;33m\u001b[0m\u001b[0m\n\u001b[1;32m----> 2\u001b[1;33m \u001b[0mprint\u001b[0m\u001b[1;33m(\u001b[0m\u001b[1;34m\"Nilai yang paling sering muncul (Modus) dari ke 250 nilai tesebut adalah \"\u001b[0m\u001b[1;33m,\u001b[0m \u001b[0mstatistics\u001b[0m\u001b[1;33m.\u001b[0m\u001b[0mmode\u001b[0m\u001b[1;33m(\u001b[0m\u001b[0mnilaiTugas\u001b[0m\u001b[1;33m)\u001b[0m\u001b[1;33m,\u001b[0m \u001b[1;34m\".\"\u001b[0m\u001b[1;33m,\u001b[0m \u001b[0msep\u001b[0m\u001b[1;33m=\u001b[0m\u001b[1;34m''\u001b[0m\u001b[1;33m)\u001b[0m\u001b[1;33m\u001b[0m\u001b[0m\n\u001b[0m",
      "\u001b[1;32m~\\Anaconda3\\lib\\statistics.py\u001b[0m in \u001b[0;36mmode\u001b[1;34m(data)\u001b[0m\n\u001b[0;32m    504\u001b[0m     \u001b[1;32melif\u001b[0m \u001b[0mtable\u001b[0m\u001b[1;33m:\u001b[0m\u001b[1;33m\u001b[0m\u001b[0m\n\u001b[0;32m    505\u001b[0m         raise StatisticsError(\n\u001b[1;32m--> 506\u001b[1;33m                 \u001b[1;34m'no unique mode; found %d equally common values'\u001b[0m \u001b[1;33m%\u001b[0m \u001b[0mlen\u001b[0m\u001b[1;33m(\u001b[0m\u001b[0mtable\u001b[0m\u001b[1;33m)\u001b[0m\u001b[1;33m\u001b[0m\u001b[0m\n\u001b[0m\u001b[0;32m    507\u001b[0m                 )\n\u001b[0;32m    508\u001b[0m     \u001b[1;32melse\u001b[0m\u001b[1;33m:\u001b[0m\u001b[1;33m\u001b[0m\u001b[0m\n",
      "\u001b[1;31mStatisticsError\u001b[0m: no unique mode; found 3 equally common values"
     ]
    }
   ],
   "source": [
    "#Modus (Nilai yang paling sering muncul) -- jika modus unik, cukup menggunakan algoritma ini\n",
    "print(\"Nilai yang paling sering muncul (Modus) dari ke 250 nilai tesebut adalah \", statistics.mode(nilaiTugas), \".\", sep='')"
   ]
  },
  {
   "cell_type": "code",
   "execution_count": 7,
   "metadata": {},
   "outputs": [
    {
     "name": "stdout",
     "output_type": "stream",
     "text": [
      "Nilai yang paling sering muncul dari ke 250 nilai-nilai tersebut adalah: \n",
      "1. 4\n",
      "2. 17\n",
      "3. 23\n",
      "yaitu muncul sebanyak 7 kali.\n"
     ]
    }
   ],
   "source": [
    "#Modus (Nilai yang paling sering muncul) -- jika modus tidak unik, maka gunakan algoritma ini\n",
    "nilaiCount = []\n",
    "distinctNilai = set(nilaiTugas)\n",
    "no = 0\n",
    "print(\"Nilai yang paling sering muncul dari ke 250 nilai-nilai tersebut adalah: \")\n",
    "for n in distinctNilai:\n",
    "    nilaiCount.append(nilaiTugas.count(n))\n",
    "for i in distinctNilai:\n",
    "    if nilaiTugas.count(i) >= max(nilaiCount):\n",
    "        no = no + 1\n",
    "        print(no, \". \", i, sep='')\n",
    "print(\"yaitu muncul sebanyak \", max(nilaiCount), \" kali.\", sep='')"
   ]
  },
  {
   "cell_type": "code",
   "execution_count": null,
   "metadata": {},
   "outputs": [],
   "source": []
  }
 ],
 "metadata": {
  "kernelspec": {
   "display_name": "Python 3",
   "language": "python",
   "name": "python3"
  },
  "language_info": {
   "codemirror_mode": {
    "name": "ipython",
    "version": 3
   },
   "file_extension": ".py",
   "mimetype": "text/x-python",
   "name": "python",
   "nbconvert_exporter": "python",
   "pygments_lexer": "ipython3",
   "version": "3.7.0"
  }
 },
 "nbformat": 4,
 "nbformat_minor": 2
}

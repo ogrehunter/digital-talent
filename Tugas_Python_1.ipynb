{
 "cells": [
  {
   "cell_type": "code",
   "execution_count": 1,
   "metadata": {},
   "outputs": [
    {
     "name": "stdout",
     "output_type": "stream",
     "text": [
      "Let's calculate your BMI.\n",
      "Enter your weight in kilogram: 86\n",
      "Enter you height in cm: 165\n",
      "Your BMI score is 31.59.\n",
      "You are moderately obese.\n"
     ]
    }
   ],
   "source": [
    "print(\"Let's calculate your BMI.\")\n",
    "\n",
    "weight = eval(input(\"Enter your weight in kilogram: \"))\n",
    "height = eval(input(\"Enter you height in cm: \"))\n",
    "\n",
    "f_bmi = (weight)/((height/100)*(height/100))\n",
    "\n",
    "print(\"Your BMI score is \", round(f_bmi, 2), \".\", sep='')\n",
    "print(\"You are\", end=\"\")\n",
    "if f_bmi<15:\n",
    "    print(\" very severely underweight.\")\n",
    "elif 15<=f_bmi<16:\n",
    "    print(\" severely underweight.\")\n",
    "elif 16<=f_bmi<18.5:\n",
    "    print(\" underweight.\")\n",
    "elif 18.5<=f_bmi<25:\n",
    "    print(\" normal (healthy weight).\")\n",
    "elif 25<=f_bmi<30:\n",
    "    print(\" overweight.\")\n",
    "elif 30<=f_bmi<35:\n",
    "    print(\" moderately obese.\")\n",
    "elif 35<=f_bmi<40:\n",
    "    print(\" severely obese.\")\n",
    "elif f_bmi >=40:\n",
    "    print(\" very severely obese.\")"
   ]
  },
  {
   "cell_type": "code",
   "execution_count": null,
   "metadata": {},
   "outputs": [],
   "source": []
  }
 ],
 "metadata": {
  "kernelspec": {
   "display_name": "Python 3",
   "language": "python",
   "name": "python3"
  },
  "language_info": {
   "codemirror_mode": {
    "name": "ipython",
    "version": 3
   },
   "file_extension": ".py",
   "mimetype": "text/x-python",
   "name": "python",
   "nbconvert_exporter": "python",
   "pygments_lexer": "ipython3",
   "version": "3.7.0"
  }
 },
 "nbformat": 4,
 "nbformat_minor": 2
}
